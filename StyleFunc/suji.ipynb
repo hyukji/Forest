{
 "cells": [
  {
   "cell_type": "code",
   "execution_count": null,
   "metadata": {},
   "outputs": [],
   "source": []
  },
  {
   "cell_type": "code",
   "execution_count": 1,
   "metadata": {
    "scrolled": false
   },
   "outputs": [
    {
     "name": "stdout",
     "output_type": "stream",
     "text": [
      "TokenInfo(type=57 (ENCODING), string='utf-8', start=(0, 0), end=(0, 0), line='')\n",
      "TokenInfo(type=2 (NUMBER), string='3', start=(1, 0), end=(1, 1), line='3(2)\\n')\n",
      "TokenInfo(type=53 (OP), string='(', start=(1, 1), end=(1, 2), line='3(2)\\n')\n",
      "TokenInfo(type=2 (NUMBER), string='2', start=(1, 2), end=(1, 3), line='3(2)\\n')\n",
      "TokenInfo(type=53 (OP), string=')', start=(1, 3), end=(1, 4), line='3(2)\\n')\n",
      "TokenInfo(type=4 (NEWLINE), string='\\n', start=(1, 4), end=(1, 5), line='3(2)\\n')\n",
      "TokenInfo(type=2 (NUMBER), string='3', start=(2, 0), end=(2, 1), line='3+(2)\\n')\n",
      "TokenInfo(type=53 (OP), string='+', start=(2, 1), end=(2, 2), line='3+(2)\\n')\n",
      "TokenInfo(type=53 (OP), string='(', start=(2, 2), end=(2, 3), line='3+(2)\\n')\n",
      "TokenInfo(type=2 (NUMBER), string='2', start=(2, 3), end=(2, 4), line='3+(2)\\n')\n",
      "TokenInfo(type=53 (OP), string=')', start=(2, 4), end=(2, 5), line='3+(2)\\n')\n",
      "TokenInfo(type=4 (NEWLINE), string='\\n', start=(2, 5), end=(2, 6), line='3+(2)\\n')\n",
      "TokenInfo(type=53 (OP), string='(', start=(3, 0), end=(3, 1), line='(2)\\n')\n",
      "TokenInfo(type=2 (NUMBER), string='2', start=(3, 1), end=(3, 2), line='(2)\\n')\n",
      "TokenInfo(type=53 (OP), string=')', start=(3, 2), end=(3, 3), line='(2)\\n')\n",
      "TokenInfo(type=4 (NEWLINE), string='\\n', start=(3, 3), end=(3, 4), line='(2)\\n')\n",
      "TokenInfo(type=0 (ENDMARKER), string='', start=(4, 0), end=(4, 0), line='')\n"
     ]
    }
   ],
   "source": [
    "import tokenize\n",
    "\n",
    "with open('bye.py', 'rb') as f:\n",
    "    tokens = list(tokenize.tokenize(f.readline))\n",
    "for i in tokens:\n",
    "    print(i)"
   ]
  },
  {
   "cell_type": "code",
   "execution_count": 2,
   "metadata": {},
   "outputs": [
    {
     "ename": "IndentationError",
     "evalue": "expected an indented block (suji.py, line 83)",
     "output_type": "error",
     "traceback": [
      "Traceback \u001b[1;36m(most recent call last)\u001b[0m:\n",
      "  File \u001b[0;32m\"C:\\Users\\speed\\Anaconda3\\lib\\site-packages\\IPython\\core\\interactiveshell.py\"\u001b[0m, line \u001b[0;32m3326\u001b[0m, in \u001b[0;35mrun_code\u001b[0m\n    exec(code_obj, self.user_global_ns, self.user_ns)\n",
      "\u001b[1;36m  File \u001b[1;32m\"<ipython-input-2-df19e041dedf>\"\u001b[1;36m, line \u001b[1;32m1\u001b[1;36m, in \u001b[1;35m<module>\u001b[1;36m\u001b[0m\n\u001b[1;33m    import suji as sj\u001b[0m\n",
      "\u001b[1;36m  File \u001b[1;32m\"C:\\Users\\speed\\Desktop\\UGRP\\ddudy\\StyleFunc\\suji.py\"\u001b[1;36m, line \u001b[1;32m83\u001b[0m\n\u001b[1;33m    a[0]=1\u001b[0m\n\u001b[1;37m    ^\u001b[0m\n\u001b[1;31mIndentationError\u001b[0m\u001b[1;31m:\u001b[0m expected an indented block\n"
     ]
    }
   ],
   "source": [
    "import suji as sj\n",
    "print(sj.OpenParOpBl(tokens))"
   ]
  },
  {
   "cell_type": "code",
   "execution_count": 37,
   "metadata": {},
   "outputs": [
    {
     "name": "stdout",
     "output_type": "stream",
     "text": [
      "[1, 0, 0, 0, 1]\n"
     ]
    }
   ],
   "source": [
    "import suji as sj\n",
    "print(sj.EquOpBl(tokens))"
   ]
  },
  {
   "cell_type": "code",
   "execution_count": null,
   "metadata": {},
   "outputs": [],
   "source": []
  }
 ],
 "metadata": {
  "kernelspec": {
   "display_name": "Python 3",
   "language": "python",
   "name": "python3"
  },
  "language_info": {
   "codemirror_mode": {
    "name": "ipython",
    "version": 3
   },
   "file_extension": ".py",
   "mimetype": "text/x-python",
   "name": "python",
   "nbconvert_exporter": "python",
   "pygments_lexer": "ipython3",
   "version": "3.7.7"
  }
 },
 "nbformat": 4,
 "nbformat_minor": 2
}
